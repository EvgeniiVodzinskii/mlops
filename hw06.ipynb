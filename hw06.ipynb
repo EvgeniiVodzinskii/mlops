{
 "cells": [
  {
   "cell_type": "code",
   "execution_count": 3,
   "id": "63a53b7f-ae56-4f01-b024-8a779d5f3dd6",
   "metadata": {},
   "outputs": [
    {
     "name": "stdout",
     "output_type": "stream",
     "text": [
      "if __name__ == '__main__':\n"
     ]
    }
   ],
   "source": [
    "!tail hw06/batch.py -n 4 | head -n 1"
   ]
  },
  {
   "cell_type": "code",
   "execution_count": 5,
   "id": "586f9a4c-c13d-4e40-ae8e-52ea2c600a92",
   "metadata": {},
   "outputs": [
    {
     "name": "stdout",
     "output_type": "stream",
     "text": [
      "-rw-rw-r-- 1 eugene eugene   63 Jul 30 13:14 hw06/tests/__init__.py\n",
      "-rw-rw-r-- 1 eugene eugene 1010 Jul 30 13:52 hw06/tests/test_batch.py\n"
     ]
    }
   ],
   "source": [
    "!ls -la hw06/tests/*.py"
   ]
  },
  {
   "cell_type": "code",
   "execution_count": 6,
   "id": "62d1e061-5357-4cf1-828e-b11d01f2fc0e",
   "metadata": {},
   "outputs": [
    {
     "name": "stdout",
     "output_type": "stream",
     "text": [
      "    assert len(actual_result.index) == 2\n"
     ]
    }
   ],
   "source": [
    "!tail hw06/tests/test_batch.py -n 2 | head -n 1"
   ]
  },
  {
   "cell_type": "code",
   "execution_count": 7,
   "id": "3144ac7a-8465-424a-89e0-a251c9e09079",
   "metadata": {},
   "outputs": [
    {
     "name": "stdout",
     "output_type": "stream",
     "text": [
      "2024-07-30 14:15:54 nyc-duration\n"
     ]
    }
   ],
   "source": [
    "!aws --endpoint-url=http://localhost:4566 s3 ls"
   ]
  },
  {
   "cell_type": "code",
   "execution_count": 30,
   "id": "e0e235b5-1fda-4d2b-b3ec-956c9b4b1a7a",
   "metadata": {},
   "outputs": [
    {
     "name": "stdout",
     "output_type": "stream",
     "text": [
      "2024-07-30 14:46:20       4044 taxi-2023-01.parquet\n"
     ]
    }
   ],
   "source": [
    "!aws --endpoint-url=http://localhost:4566 s3 ls nyc-duration"
   ]
  },
  {
   "cell_type": "code",
   "execution_count": 35,
   "id": "5e225e01-4639-4553-a5d8-a1af6f53bd4e",
   "metadata": {},
   "outputs": [
    {
     "name": "stdout",
     "output_type": "stream",
     "text": [
      "Sum duration: 36.27725045203073\n"
     ]
    }
   ],
   "source": [
    "!INPUT_FILE_PATTERN='s3://nyc-duration/taxi-{year:04d}-{month:02d}.parquet' S3_ENDPOINT_URL=http://localhost:4566 python hw06/batch.py 2023 01"
   ]
  }
 ],
 "metadata": {
  "kernelspec": {
   "display_name": "Python 3 (ipykernel)",
   "language": "python",
   "name": "python3"
  },
  "language_info": {
   "codemirror_mode": {
    "name": "ipython",
    "version": 3
   },
   "file_extension": ".py",
   "mimetype": "text/x-python",
   "name": "python",
   "nbconvert_exporter": "python",
   "pygments_lexer": "ipython3",
   "version": "3.8.10"
  }
 },
 "nbformat": 4,
 "nbformat_minor": 5
}
