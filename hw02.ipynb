{
 "cells": [
  {
   "cell_type": "code",
   "execution_count": 2,
   "id": "a813fd50-c018-4a02-878d-db4b5924a3c8",
   "metadata": {},
   "outputs": [
    {
     "name": "stdout",
     "output_type": "stream",
     "text": [
      "mlflow, version 2.14.2\n"
     ]
    }
   ],
   "source": [
    "!mlflow --version"
   ]
  },
  {
   "cell_type": "code",
   "execution_count": 3,
   "id": "dccc02f5-87d2-4da7-bd4d-68538914b6ff",
   "metadata": {},
   "outputs": [
    {
     "name": "stdout",
     "output_type": "stream",
     "text": [
      "4\n"
     ]
    }
   ],
   "source": [
    "!ls data/*.pkl | wc -l"
   ]
  },
  {
   "cell_type": "code",
   "execution_count": 4,
   "id": "2e5d4994-978b-4789-9a3b-38146e843626",
   "metadata": {},
   "outputs": [],
   "source": [
    "import mlflow"
   ]
  },
  {
   "cell_type": "code",
   "execution_count": 37,
   "id": "4eeba817-6425-4448-9827-2c722535c071",
   "metadata": {},
   "outputs": [
    {
     "data": {
      "text/plain": [
       "'2'"
      ]
     },
     "execution_count": 37,
     "metadata": {},
     "output_type": "execute_result"
    }
   ],
   "source": [
    "run_id = \"77ccee384ab448799f1e341a8fe4c350\"\n",
    "metric = \"min_samples_split\"\n",
    "client = mlflow.tracking.MlflowClient(tracking_uri=\"sqlite:///mlflow.db\")\n",
    "run_data_dict = client.get_run(run_id).data.to_dictionary()\n",
    "run_data_dict['params'][metric]"
   ]
  },
  {
   "cell_type": "code",
   "execution_count": 87,
   "id": "5acd65cc-9a39-4373-9357-f6576204926a",
   "metadata": {},
   "outputs": [
    {
     "data": {
      "text/plain": [
       "5.335419588556921"
      ]
     },
     "execution_count": 87,
     "metadata": {},
     "output_type": "execute_result"
    }
   ],
   "source": [
    "experiment = client.get_experiment_by_name(\"random-forest-hyperopt\")\n",
    "runs = client.search_runs(experiment_ids=experiment.experiment_id,order_by=[\"metrics.rmse ASC\"],max_results=1)\n",
    "runs[0].data.to_dictionary()['metrics']['rmse']"
   ]
  },
  {
   "cell_type": "code",
   "execution_count": 91,
   "id": "78eccd31-941d-4150-8ab9-99535e8a08ed",
   "metadata": {},
   "outputs": [
    {
     "data": {
      "text/plain": [
       "5.567408012462019"
      ]
     },
     "execution_count": 91,
     "metadata": {},
     "output_type": "execute_result"
    }
   ],
   "source": [
    "experiment = client.get_experiment_by_name(\"random-forest-best-models\")\n",
    "runs = client.search_runs(experiment_ids=experiment.experiment_id,order_by=[\"metrics.test_rmse ASC\"],max_results=1)\n",
    "runs[0].data.to_dictionary()['metrics']['test_rmse']"
   ]
  },
  {
   "cell_type": "code",
   "execution_count": null,
   "id": "01edaadf-6f19-4dbc-886c-c9428650e5e2",
   "metadata": {},
   "outputs": [],
   "source": []
  }
 ],
 "metadata": {
  "kernelspec": {
   "display_name": "Python 3 (ipykernel)",
   "language": "python",
   "name": "python3"
  },
  "language_info": {
   "codemirror_mode": {
    "name": "ipython",
    "version": 3
   },
   "file_extension": ".py",
   "mimetype": "text/x-python",
   "name": "python",
   "nbconvert_exporter": "python",
   "pygments_lexer": "ipython3",
   "version": "3.8.10"
  }
 },
 "nbformat": 4,
 "nbformat_minor": 5
}
