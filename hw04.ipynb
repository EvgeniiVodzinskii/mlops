{
 "cells": [
  {
   "cell_type": "code",
   "execution_count": 25,
   "id": "fda37b9f-ff9a-4c19-a096-d25f9e8080ef",
   "metadata": {},
   "outputs": [],
   "source": [
    "answers = []"
   ]
  },
  {
   "cell_type": "code",
   "execution_count": 15,
   "id": "54795bf8-4404-4ccc-b125-4f9156c7f69c",
   "metadata": {},
   "outputs": [],
   "source": [
    "import pickle\n",
    "import pandas as pd\n",
    "\n",
    "type = 'yellow'\n",
    "year = 2023\n",
    "month = 3\n",
    "\n",
    "input_file = f'https://d37ci6vzurychx.cloudfront.net/trip-data/{type}_tripdata_{year:04d}-{month:02d}.parquet'\n",
    "output_file = f'output/{type}_tripdata_{year:04d}-{month:02d}.parquet'\n",
    "\n",
    "with open('model.bin', 'rb') as f_in:\n",
    "    dv, model = pickle.load(f_in)\n",
    "\n",
    "categorical = ['PULocationID', 'DOLocationID']\n",
    "\n",
    "def read_data(filename):\n",
    "    df = pd.read_parquet(filename)\n",
    "    \n",
    "    df['duration'] = df.tpep_dropoff_datetime - df.tpep_pickup_datetime\n",
    "    df['duration'] = df.duration.dt.total_seconds() / 60\n",
    "\n",
    "    df = df[(df.duration >= 1) & (df.duration <= 60)].copy()\n",
    "\n",
    "    df[categorical] = df[categorical].fillna(-1).astype('int').astype('str')\n",
    "    \n",
    "    return df\n",
    "\n",
    "df = read_data(input_file)\n",
    "\n",
    "dicts = df[categorical].to_dict(orient='records')\n",
    "X_val = dv.transform(dicts)\n",
    "y_pred = model.predict(X_val)"
   ]
  },
  {
   "cell_type": "code",
   "execution_count": 17,
   "id": "ea03b77e-bff4-425c-b55b-1c67290303e0",
   "metadata": {},
   "outputs": [],
   "source": [
    "df['ride_id'] = f'{year:04d}/{month:02d}_' + df.index.astype('str')"
   ]
  },
  {
   "cell_type": "code",
   "execution_count": 19,
   "id": "e51bf52a-c895-4cc0-b56a-32350f7300ae",
   "metadata": {},
   "outputs": [],
   "source": [
    "df_result = pd.DataFrame()\n",
    "df_result['ride_id'] = df['ride_id']\n",
    "df_result['duration'] = y_pred"
   ]
  },
  {
   "cell_type": "code",
   "execution_count": 20,
   "id": "dac0b7e4-f44d-4b8e-b546-dc0fc75a974d",
   "metadata": {},
   "outputs": [],
   "source": [
    "df_result.to_parquet(\n",
    "    output_file,\n",
    "    engine='pyarrow',\n",
    "    compression=None,\n",
    "    index=False\n",
    ")"
   ]
  },
  {
   "cell_type": "code",
   "execution_count": 27,
   "id": "542de0b4-6788-48d3-a0f4-aa554cd43247",
   "metadata": {},
   "outputs": [
    {
     "data": {
      "text/plain": [
       "6.247488852238703"
      ]
     },
     "execution_count": 27,
     "metadata": {},
     "output_type": "execute_result"
    }
   ],
   "source": [
    "y_pred.std()"
   ]
  },
  {
   "cell_type": "code",
   "execution_count": 24,
   "id": "8c945801-1767-4aec-9665-50be239ba8c6",
   "metadata": {},
   "outputs": [
    {
     "name": "stdout",
     "output_type": "stream",
     "text": [
      "total 66M\n",
      "drwxrwxr-x  2 eugene eugene 4.0K Jul 26 10:41 .\n",
      "drwxrwxr-x 19 eugene eugene  12K Jul 26 10:41 ..\n",
      "-rw-rw-r--  1 eugene eugene  66M Jul 26 10:24 yellow_tripdata_2023-03.parquet\n"
     ]
    }
   ],
   "source": [
    "!ls -lah output/"
   ]
  },
  {
   "cell_type": "code",
   "execution_count": 21,
   "id": "f6b62e66-f467-4b9b-8a9e-5a01ebd02dad",
   "metadata": {},
   "outputs": [
    {
     "name": "stdout",
     "output_type": "stream",
     "text": [
      "[NbConvertApp] Converting notebook hw04.ipynb to script\n",
      "[NbConvertApp] Writing 1267 bytes to hw04.py\n"
     ]
    }
   ],
   "source": [
    "!jupyter nbconvert --to script hw04.ipynb"
   ]
  },
  {
   "cell_type": "code",
   "execution_count": 22,
   "id": "70cc3d4e-5897-4d59-b3cb-bccfcfd43bd5",
   "metadata": {},
   "outputs": [
    {
     "name": "stdout",
     "output_type": "stream",
     "text": [
      "                \"sha256:057b991ac64b3e75c9c04b5f9395eaf19a6179244c089afdebaad98264bff37c\",\n"
     ]
    }
   ],
   "source": [
    "!cat Pipfile.lock | grep scikit-learn -A 2 | tail -n 1"
   ]
  },
  {
   "cell_type": "code",
   "execution_count": 28,
   "id": "c00757e4-896c-479c-82db-0ec3c65382b1",
   "metadata": {},
   "outputs": [
    {
     "name": "stdout",
     "output_type": "stream",
     "text": [
      "14.292282936862449\n"
     ]
    }
   ],
   "source": [
    "!python hw04.py 2023 4"
   ]
  },
  {
   "cell_type": "code",
   "execution_count": 30,
   "id": "b6b2b291-8295-424b-be09-743ed9de2263",
   "metadata": {},
   "outputs": [
    {
     "name": "stdout",
     "output_type": "stream",
     "text": [
      "0.19174419265916945\n"
     ]
    }
   ],
   "source": [
    "!podman run -e TAXI_YEAR=2023 -e TAXI_MONTH=05 hw04:v1"
   ]
  },
  {
   "cell_type": "code",
   "execution_count": null,
   "id": "c5ffecbb-9c9c-42b7-9ff2-f0c00d4a21d9",
   "metadata": {},
   "outputs": [],
   "source": []
  }
 ],
 "metadata": {
  "kernelspec": {
   "display_name": "Python 3 (ipykernel)",
   "language": "python",
   "name": "python3"
  },
  "language_info": {
   "codemirror_mode": {
    "name": "ipython",
    "version": 3
   },
   "file_extension": ".py",
   "mimetype": "text/x-python",
   "name": "python",
   "nbconvert_exporter": "python",
   "pygments_lexer": "ipython3",
   "version": "3.8.10"
  }
 },
 "nbformat": 4,
 "nbformat_minor": 5
}
