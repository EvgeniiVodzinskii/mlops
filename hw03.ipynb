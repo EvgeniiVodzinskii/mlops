{
 "cells": [
  {
   "cell_type": "code",
   "execution_count": 1,
   "id": "17dd6c03-090d-47e1-8dcc-826dc20ab2b5",
   "metadata": {},
   "outputs": [
    {
     "name": "stdout",
     "output_type": "stream",
     "text": [
      "mage-ai==0.9.72\n"
     ]
    }
   ],
   "source": [
    "!pip freeze | grep mage"
   ]
  },
  {
   "cell_type": "code",
   "execution_count": 3,
   "id": "9cc978f7-dc20-4930-ba1e-8cd21959a665",
   "metadata": {},
   "outputs": [
    {
     "name": "stdout",
     "output_type": "stream",
     "text": [
      "55 homework_03/metadata.yaml\n"
     ]
    }
   ],
   "source": [
    "!wc -l homework_03/metadata.yaml"
   ]
  },
  {
   "cell_type": "code",
   "execution_count": null,
   "id": "f46f25fb-f600-42b3-b38f-c1504ed1224e",
   "metadata": {},
   "outputs": [],
   "source": []
  }
 ],
 "metadata": {
  "kernelspec": {
   "display_name": "Python 3 (ipykernel)",
   "language": "python",
   "name": "python3"
  },
  "language_info": {
   "codemirror_mode": {
    "name": "ipython",
    "version": 3
   },
   "file_extension": ".py",
   "mimetype": "text/x-python",
   "name": "python",
   "nbconvert_exporter": "python",
   "pygments_lexer": "ipython3",
   "version": "3.8.10"
  }
 },
 "nbformat": 4,
 "nbformat_minor": 5
}
